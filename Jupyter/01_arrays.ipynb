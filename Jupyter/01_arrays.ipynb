{
  "nbformat": 4,
  "nbformat_minor": 0,
  "metadata": {
    "colab": {
      "provenance": []
    },
    "kernelspec": {
      "name": "python3",
      "display_name": "Python 3"
    },
    "language_info": {
      "name": "python"
    }
  },
  "cells": [
    {
      "cell_type": "code",
      "execution_count": null,
      "metadata": {
        "id": "qUsUTN4agrNG"
      },
      "outputs": [],
      "source": [
        "import numpy as np # se coloca un alias para que sea mas facil y por lo comun que es entre programadores\n",
        "import sys # este paquete maneja gunciones de sistema"
      ]
    },
    {
      "cell_type": "markdown",
      "source": [
        "#### **creand una lista de 10 elementos**"
      ],
      "metadata": {
        "id": "eIsUJrW3gyfR"
      }
    },
    {
      "cell_type": "code",
      "source": [
        "lista1 = list(range(1,11))\n",
        "lista1"
      ],
      "metadata": {
        "colab": {
          "base_uri": "https://localhost:8080/"
        },
        "id": "wEF8Q_SSgx06",
        "outputId": "c7f74c06-e3e0-4032-d203-ead9f7842fdd"
      },
      "execution_count": null,
      "outputs": [
        {
          "output_type": "execute_result",
          "data": {
            "text/plain": [
              "[1, 2, 3, 4, 5, 6, 7, 8, 9, 10]"
            ]
          },
          "metadata": {},
          "execution_count": 2
        }
      ]
    },
    {
      "cell_type": "markdown",
      "source": [
        "#### **consulta el tipo de datos**"
      ],
      "metadata": {
        "id": "wFpUW9YstPDh"
      }
    },
    {
      "cell_type": "code",
      "source": [
        "type(lista1)"
      ],
      "metadata": {
        "colab": {
          "base_uri": "https://localhost:8080/"
        },
        "id": "odgNKyxdtNj6",
        "outputId": "d1415603-b94e-45bd-80a9-33660f3f32b3"
      },
      "execution_count": null,
      "outputs": [
        {
          "output_type": "execute_result",
          "data": {
            "text/plain": [
              "list"
            ]
          },
          "metadata": {},
          "execution_count": 3
        }
      ]
    },
    {
      "cell_type": "markdown",
      "source": [
        "#### **Transformando una lista a un array**\n",
        "recordar que un **array** es una estructura propia de la libreria de numpy"
      ],
      "metadata": {
        "id": "DPYB8yqxg-_I"
      }
    },
    {
      "cell_type": "code",
      "source": [
        "arreglo = np.array(lista1)\n",
        "arreglo"
      ],
      "metadata": {
        "colab": {
          "base_uri": "https://localhost:8080/"
        },
        "id": "T1QL5XTFg97a",
        "outputId": "aaf3ef03-c465-4ec6-9e7c-fc677aa9bf2d"
      },
      "execution_count": null,
      "outputs": [
        {
          "output_type": "execute_result",
          "data": {
            "text/plain": [
              "array([ 1,  2,  3,  4,  5,  6,  7,  8,  9, 10])"
            ]
          },
          "metadata": {},
          "execution_count": 4
        }
      ]
    },
    {
      "cell_type": "markdown",
      "source": [
        "#### **consultando el tipo de dato numerico del arreglo**"
      ],
      "metadata": {
        "id": "CeIQ4FueuA2a"
      }
    },
    {
      "cell_type": "code",
      "source": [
        "arreglo.dtype"
      ],
      "metadata": {
        "colab": {
          "base_uri": "https://localhost:8080/"
        },
        "id": "ZOMH2xlft-BJ",
        "outputId": "243b748e-6de9-49b3-f199-9f5b8ccac29b"
      },
      "execution_count": null,
      "outputs": [
        {
          "output_type": "execute_result",
          "data": {
            "text/plain": [
              "dtype('int64')"
            ]
          },
          "metadata": {},
          "execution_count": 5
        }
      ]
    },
    {
      "cell_type": "markdown",
      "source": [
        "#### **crear una lista de solo numeros unos**\n"
      ],
      "metadata": {
        "id": "wbQZgiLirb_Z"
      }
    },
    {
      "cell_type": "code",
      "source": [
        "unos = np.ones(10)\n",
        "unos"
      ],
      "metadata": {
        "colab": {
          "base_uri": "https://localhost:8080/"
        },
        "id": "_dAfrNkWres5",
        "outputId": "3f67fadf-5cac-4604-d1d8-610df9587d4c"
      },
      "execution_count": null,
      "outputs": [
        {
          "output_type": "execute_result",
          "data": {
            "text/plain": [
              "array([1., 1., 1., 1., 1., 1., 1., 1., 1., 1.])"
            ]
          },
          "metadata": {},
          "execution_count": 6
        }
      ]
    },
    {
      "cell_type": "markdown",
      "source": [
        "#### **creando una lista de solo numeros ceros**"
      ],
      "metadata": {
        "id": "21BNaNUSu9hp"
      }
    },
    {
      "cell_type": "code",
      "source": [
        "ceros = np.zeros(100)\n",
        "ceros"
      ],
      "metadata": {
        "colab": {
          "base_uri": "https://localhost:8080/"
        },
        "id": "JkcW69cmvD46",
        "outputId": "ba7fca48-aa54-4837-e9ff-22fcbeac577d"
      },
      "execution_count": null,
      "outputs": [
        {
          "output_type": "execute_result",
          "data": {
            "text/plain": [
              "array([0., 0., 0., 0., 0., 0., 0., 0., 0., 0., 0., 0., 0., 0., 0., 0., 0.,\n",
              "       0., 0., 0., 0., 0., 0., 0., 0., 0., 0., 0., 0., 0., 0., 0., 0., 0.,\n",
              "       0., 0., 0., 0., 0., 0., 0., 0., 0., 0., 0., 0., 0., 0., 0., 0., 0.,\n",
              "       0., 0., 0., 0., 0., 0., 0., 0., 0., 0., 0., 0., 0., 0., 0., 0., 0.,\n",
              "       0., 0., 0., 0., 0., 0., 0., 0., 0., 0., 0., 0., 0., 0., 0., 0., 0.,\n",
              "       0., 0., 0., 0., 0., 0., 0., 0., 0., 0., 0., 0., 0., 0., 0.])"
            ]
          },
          "metadata": {},
          "execution_count": 7
        }
      ]
    },
    {
      "cell_type": "markdown",
      "source": [
        "#### **consultando la cantidad de memoria ocupada por la estructura**"
      ],
      "metadata": {
        "id": "Siwk72aBhkDp"
      }
    },
    {
      "cell_type": "code",
      "source": [
        "memoria_lista = sys.getsizeof (lista1)\n",
        "memoria_arreglo = arreglo.nbytes\n",
        "\n",
        "print(f\"memoria ocupada por la lista: \")\n",
        "print(f\"memoria ocupada por la lista: \")"
      ],
      "metadata": {
        "colab": {
          "base_uri": "https://localhost:8080/"
        },
        "id": "3SwxncvbheQZ",
        "outputId": "2e35a3a8-e9bd-4ce5-b732-327482dfe21a"
      },
      "execution_count": null,
      "outputs": [
        {
          "output_type": "stream",
          "name": "stdout",
          "text": [
            "memoria ocupada por la lista: \n",
            "memoria ocupada por la lista: \n"
          ]
        }
      ]
    },
    {
      "cell_type": "markdown",
      "source": [],
      "metadata": {
        "id": "0AjjN4hIhLIx"
      }
    },
    {
      "cell_type": "markdown",
      "source": [
        "####  **lista de datos compuestos(transformados en array)**"
      ],
      "metadata": {
        "id": "F_7TlztEvO8y"
      }
    },
    {
      "cell_type": "code",
      "source": [
        "lista2 = [\"Samir\",2 ,5.6, True]"
      ],
      "metadata": {
        "id": "Jx6Lcnl4vXBS"
      },
      "execution_count": null,
      "outputs": []
    },
    {
      "cell_type": "markdown",
      "source": [
        "####  **transformando la lista mixta en array**\n",
        "u32 hace referencia al estandar de unicode de caracteres\n",
        "(lo trata como un string)"
      ],
      "metadata": {
        "id": "ITUIpv6HvgL5"
      }
    },
    {
      "cell_type": "code",
      "source": [
        "arreglo2 = np.array(lista2)\n",
        "arreglo2"
      ],
      "metadata": {
        "colab": {
          "base_uri": "https://localhost:8080/"
        },
        "id": "1rvxW5SSvrah",
        "outputId": "e452cc58-a9e4-4d79-c17d-c44dd32123c0"
      },
      "execution_count": null,
      "outputs": [
        {
          "output_type": "execute_result",
          "data": {
            "text/plain": [
              "array(['Samir', '2', '5.6', 'True'], dtype='<U32')"
            ]
          },
          "metadata": {},
          "execution_count": 10
        }
      ]
    },
    {
      "cell_type": "markdown",
      "source": [
        "#### **consultando la cantidad de memoria ocupada por estructura (paquete sys)**"
      ],
      "metadata": {
        "id": "aEaCJ2GUwIcJ"
      }
    },
    {
      "cell_type": "code",
      "source": [
        "memoria_lista = sys.getsizeof(lista1)\n",
        "memoria_arreglo = arreglo.nbytes\n",
        "print(f\"memoria ocupada por la lista: {memoria_lista} bytes\")\n",
        "print(f\"memoria ocupada por el array : {memoria_arreglo} bytes\")"
      ],
      "metadata": {
        "colab": {
          "base_uri": "https://localhost:8080/"
        },
        "id": "i4_x7nkTwO3i",
        "outputId": "2667b202-d0f3-456f-aa7c-bdcb1fca1dfb"
      },
      "execution_count": null,
      "outputs": [
        {
          "output_type": "stream",
          "name": "stdout",
          "text": [
            "memoria ocupada por la lista: 136 bytes\n",
            "memoria ocupada por el array : 80 bytes\n"
          ]
        }
      ]
    },
    {
      "cell_type": "markdown",
      "source": [
        "#### **otros metodos de numpy**"
      ],
      "metadata": {
        "id": "8ZL105slwi76"
      }
    },
    {
      "cell_type": "code",
      "source": [
        "print(\"shape:\", arreglo.shape) #dimensiones\n",
        "print(\"dimensiones:\", arreglo.ndim) # numero de ejes\n",
        "print(\"tamaño:\", arreglo.size) #total de elementos\n",
        "print(\"tipos de datos:\", arreglo.dtype) #tipo almacenado\n",
        "print(\"bytes/elementos:\", arreglo.itemsize) # tamaño en bytes de cada elemento"
      ],
      "metadata": {
        "colab": {
          "base_uri": "https://localhost:8080/"
        },
        "id": "5aOnFUs8wmc5",
        "outputId": "7e02d8c3-1849-4b5b-b059-f7786aac05c7"
      },
      "execution_count": null,
      "outputs": [
        {
          "output_type": "stream",
          "name": "stdout",
          "text": [
            "shape: (10,)\n",
            "dimensiones: 1\n",
            "tamaño: 10\n",
            "tipos de datos: int64\n",
            "bytes/elementos: 8\n"
          ]
        }
      ]
    },
    {
      "cell_type": "markdown",
      "source": [
        "#### **obeniendo el promedio del arreglo**"
      ],
      "metadata": {
        "id": "sYCBFPlQxH2Z"
      }
    },
    {
      "cell_type": "code",
      "source": [
        "promedio = np.mean(lista1)\n",
        "promedio"
      ],
      "metadata": {
        "colab": {
          "base_uri": "https://localhost:8080/"
        },
        "id": "aXFpzGQzxMq6",
        "outputId": "bc43f428-2422-471b-e940-9d702109ab89"
      },
      "execution_count": null,
      "outputs": [
        {
          "output_type": "execute_result",
          "data": {
            "text/plain": [
              "np.float64(5.5)"
            ]
          },
          "metadata": {},
          "execution_count": 13
        }
      ]
    },
    {
      "cell_type": "markdown",
      "source": [
        "#### **transformando el arreglo de int a float**\n",
        "el metodo astype() transforma los elementos del arreglo a un tipo determinado de dato numerico"
      ],
      "metadata": {
        "id": "ux9_KJ98xykB"
      }
    },
    {
      "cell_type": "code",
      "source": [
        "new_arreglo = arreglo.astype(np.float32)# se puede especficar el tipo de numero flotante (float16) o solamente float pero el valor predeterminado es 64\n",
        "new_arreglo"
      ],
      "metadata": {
        "colab": {
          "base_uri": "https://localhost:8080/"
        },
        "id": "dbxl9sECx4K5",
        "outputId": "67cf4c4d-15ab-46f5-9218-7307b5a01ea0"
      },
      "execution_count": null,
      "outputs": [
        {
          "output_type": "execute_result",
          "data": {
            "text/plain": [
              "array([ 1.,  2.,  3.,  4.,  5.,  6.,  7.,  8.,  9., 10.], dtype=float32)"
            ]
          },
          "metadata": {},
          "execution_count": 14
        }
      ]
    },
    {
      "cell_type": "markdown",
      "source": [
        "#### **aplicando el paquete random**"
      ],
      "metadata": {
        "id": "LFr3SEOJz6gJ"
      }
    },
    {
      "cell_type": "code",
      "source": [
        "np.random.rand() # solamente genera numeros de 0 a 1"
      ],
      "metadata": {
        "colab": {
          "base_uri": "https://localhost:8080/"
        },
        "id": "8wQbdZ8_0ChB",
        "outputId": "c1ea7401-ac2f-4426-8ecc-ec9f3469b3dc"
      },
      "execution_count": null,
      "outputs": [
        {
          "output_type": "execute_result",
          "data": {
            "text/plain": [
              "0.6732106745297742"
            ]
          },
          "metadata": {},
          "execution_count": 24
        }
      ]
    },
    {
      "cell_type": "code",
      "source": [
        "np.random.rand(5) # genera numeros aleatorios (n cantidad)"
      ],
      "metadata": {
        "colab": {
          "base_uri": "https://localhost:8080/"
        },
        "id": "WOxQx_O806mC",
        "outputId": "2ab45ca6-7bc1-4aa0-bf90-1b6e8e4a8736"
      },
      "execution_count": null,
      "outputs": [
        {
          "output_type": "execute_result",
          "data": {
            "text/plain": [
              "array([0.79115997, 0.47939682, 0.4333101 , 0.71324026, 0.55666533])"
            ]
          },
          "metadata": {},
          "execution_count": 27
        }
      ]
    },
    {
      "cell_type": "code",
      "source": [
        "np.random.rand(1,10,4) # genera una matriz de numeros aleatorios cantidad filas columnas"
      ],
      "metadata": {
        "colab": {
          "base_uri": "https://localhost:8080/"
        },
        "id": "aLfzzjKI09LR",
        "outputId": "d42c8357-aa44-403b-d10d-15c5cc60a92f"
      },
      "execution_count": null,
      "outputs": [
        {
          "output_type": "execute_result",
          "data": {
            "text/plain": [
              "array([[[0.81622361, 0.78751577, 0.15689849, 0.4152602 ],\n",
              "        [0.69377933, 0.24500637, 0.40021252, 0.55534224],\n",
              "        [0.09086217, 0.71574183, 0.77414157, 0.43246171],\n",
              "        [0.45531759, 0.28323736, 0.13780255, 0.63270714],\n",
              "        [0.38029175, 0.79435484, 0.62366704, 0.94936571],\n",
              "        [0.66422467, 0.63128348, 0.92096492, 0.08326954],\n",
              "        [0.38971977, 0.79197617, 0.83347867, 0.47281041],\n",
              "        [0.27603749, 0.24245425, 0.98869012, 0.86143998],\n",
              "        [0.95716858, 0.61727162, 0.62602428, 0.58629624],\n",
              "        [0.99775477, 0.1018106 , 0.89956675, 0.87123305]]])"
            ]
          },
          "metadata": {},
          "execution_count": 32
        }
      ]
    },
    {
      "cell_type": "code",
      "source": [
        "np.random.randint(1,100,10) # el \"int\" es entero entonces genera numeros enteros es igual a los anteriores de 1 al 100 y 10 numeros aleatorios\n",
        "                        #^ es la cantidad\n",
        "                     #^ el maximo\n",
        "                #^el minmo"
      ],
      "metadata": {
        "colab": {
          "base_uri": "https://localhost:8080/"
        },
        "id": "rM0dpOp6z-nC",
        "outputId": "0ee2235b-a4ba-421d-9835-31d516d3aa30"
      },
      "execution_count": null,
      "outputs": [
        {
          "output_type": "execute_result",
          "data": {
            "text/plain": [
              "array([80, 51, 16, 97, 34, 28, 10, 88, 51, 10])"
            ]
          },
          "metadata": {},
          "execution_count": 38
        }
      ]
    }
  ]
}