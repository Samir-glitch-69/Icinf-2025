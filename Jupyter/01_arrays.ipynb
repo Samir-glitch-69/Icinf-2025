{
  "cells": [
    {
      "cell_type": "code",
      "execution_count": 2,
      "metadata": {
        "id": "qUsUTN4agrNG"
      },
      "outputs": [],
      "source": [
        "import numpy as np # se coloca un alias para que sea mas facil y por lo comun que es entre programadores\n",
        "import sys # este paquete maneja gunciones de sistema"
      ]
    },
    {
      "cell_type": "markdown",
      "metadata": {
        "id": "eIsUJrW3gyfR"
      },
      "source": [
        "#### **creand una lista de 10 elementos**"
      ]
    },
    {
      "cell_type": "code",
      "execution_count": 5,
      "metadata": {
        "colab": {
          "base_uri": "https://localhost:8080/"
        },
        "id": "wEF8Q_SSgx06",
        "outputId": "c7f74c06-e3e0-4032-d203-ead9f7842fdd"
      },
      "outputs": [
        {
          "data": {
            "text/plain": [
              "[1, 2, 3, 4, 5, 6, 7, 8, 9, 10]"
            ]
          },
          "execution_count": 5,
          "metadata": {},
          "output_type": "execute_result"
        }
      ],
      "source": [
        "lista1 = list(range(1,11))\n",
        "lista1"
      ]
    },
    {
      "cell_type": "markdown",
      "metadata": {
        "id": "wFpUW9YstPDh"
      },
      "source": [
        "#### **consulta el tipo de datos**"
      ]
    },
    {
      "cell_type": "code",
      "execution_count": 6,
      "metadata": {
        "colab": {
          "base_uri": "https://localhost:8080/"
        },
        "id": "odgNKyxdtNj6",
        "outputId": "d1415603-b94e-45bd-80a9-33660f3f32b3"
      },
      "outputs": [
        {
          "data": {
            "text/plain": [
              "list"
            ]
          },
          "execution_count": 6,
          "metadata": {},
          "output_type": "execute_result"
        }
      ],
      "source": [
        "type(lista1)"
      ]
    },
    {
      "cell_type": "markdown",
      "metadata": {
        "id": "DPYB8yqxg-_I"
      },
      "source": [
        "#### **Transformando una lista a un array**\n",
        "recordar que un **array** es una estructura propia de la libreria de numpy"
      ]
    },
    {
      "cell_type": "code",
      "execution_count": 7,
      "metadata": {
        "colab": {
          "base_uri": "https://localhost:8080/"
        },
        "id": "T1QL5XTFg97a",
        "outputId": "aaf3ef03-c465-4ec6-9e7c-fc677aa9bf2d"
      },
      "outputs": [
        {
          "data": {
            "text/plain": [
              "array([ 1,  2,  3,  4,  5,  6,  7,  8,  9, 10])"
            ]
          },
          "execution_count": 7,
          "metadata": {},
          "output_type": "execute_result"
        }
      ],
      "source": [
        "arreglo = np.array(lista1)\n",
        "arreglo"
      ]
    },
    {
      "cell_type": "markdown",
      "metadata": {
        "id": "CeIQ4FueuA2a"
      },
      "source": [
        "#### **consultando el tipo de dato numerico del arreglo**"
      ]
    },
    {
      "cell_type": "code",
      "execution_count": 8,
      "metadata": {
        "colab": {
          "base_uri": "https://localhost:8080/"
        },
        "id": "ZOMH2xlft-BJ",
        "outputId": "243b748e-6de9-49b3-f199-9f5b8ccac29b"
      },
      "outputs": [
        {
          "data": {
            "text/plain": [
              "dtype('int64')"
            ]
          },
          "execution_count": 8,
          "metadata": {},
          "output_type": "execute_result"
        }
      ],
      "source": [
        "arreglo.dtype"
      ]
    },
    {
      "cell_type": "markdown",
      "metadata": {
        "id": "wbQZgiLirb_Z"
      },
      "source": [
        "#### **crear una lista de solo numeros unos**\n"
      ]
    },
    {
      "cell_type": "code",
      "execution_count": 9,
      "metadata": {
        "colab": {
          "base_uri": "https://localhost:8080/"
        },
        "id": "_dAfrNkWres5",
        "outputId": "3f67fadf-5cac-4604-d1d8-610df9587d4c"
      },
      "outputs": [
        {
          "data": {
            "text/plain": [
              "array([1., 1., 1., 1., 1., 1., 1., 1., 1., 1.])"
            ]
          },
          "execution_count": 9,
          "metadata": {},
          "output_type": "execute_result"
        }
      ],
      "source": [
        "unos = np.ones(10)\n",
        "unos"
      ]
    },
    {
      "cell_type": "markdown",
      "metadata": {
        "id": "21BNaNUSu9hp"
      },
      "source": [
        "#### **creando una lista de solo numeros ceros**"
      ]
    },
    {
      "cell_type": "code",
      "execution_count": 10,
      "metadata": {
        "colab": {
          "base_uri": "https://localhost:8080/"
        },
        "id": "JkcW69cmvD46",
        "outputId": "ba7fca48-aa54-4837-e9ff-22fcbeac577d"
      },
      "outputs": [
        {
          "data": {
            "text/plain": [
              "array([0., 0., 0., 0., 0., 0., 0., 0., 0., 0., 0., 0., 0., 0., 0., 0., 0.,\n",
              "       0., 0., 0., 0., 0., 0., 0., 0., 0., 0., 0., 0., 0., 0., 0., 0., 0.,\n",
              "       0., 0., 0., 0., 0., 0., 0., 0., 0., 0., 0., 0., 0., 0., 0., 0., 0.,\n",
              "       0., 0., 0., 0., 0., 0., 0., 0., 0., 0., 0., 0., 0., 0., 0., 0., 0.,\n",
              "       0., 0., 0., 0., 0., 0., 0., 0., 0., 0., 0., 0., 0., 0., 0., 0., 0.,\n",
              "       0., 0., 0., 0., 0., 0., 0., 0., 0., 0., 0., 0., 0., 0., 0.])"
            ]
          },
          "execution_count": 10,
          "metadata": {},
          "output_type": "execute_result"
        }
      ],
      "source": [
        "ceros = np.zeros(100)\n",
        "ceros"
      ]
    },
    {
      "cell_type": "markdown",
      "metadata": {
        "id": "Siwk72aBhkDp"
      },
      "source": [
        "#### **consultando la cantidad de memoria ocupada por la estructura**"
      ]
    },
    {
      "cell_type": "code",
      "execution_count": 12,
      "metadata": {
        "colab": {
          "base_uri": "https://localhost:8080/"
        },
        "id": "3SwxncvbheQZ",
        "outputId": "2e35a3a8-e9bd-4ce5-b732-327482dfe21a"
      },
      "outputs": [
        {
          "name": "stdout",
          "output_type": "stream",
          "text": [
            "memoria ocupada por la lista: 136 \n",
            "memoria ocupada por el arreglo: 80\n"
          ]
        }
      ],
      "source": [
        "memoria_lista = sys.getsizeof (lista1)\n",
        "memoria_arreglo = arreglo.nbytes\n",
        "\n",
        "print(f\"memoria ocupada por la lista: {memoria_lista} \")\n",
        "print(f\"memoria ocupada por el arreglo: {memoria_arreglo}\")"
      ]
    },
    {
      "cell_type": "markdown",
      "metadata": {
        "id": "F_7TlztEvO8y"
      },
      "source": [
        "####  **lista de datos compuestos(transformados en array)**"
      ]
    },
    {
      "cell_type": "code",
      "execution_count": 14,
      "metadata": {
        "id": "Jx6Lcnl4vXBS"
      },
      "outputs": [
        {
          "data": {
            "text/plain": [
              "['Samir', 2, 5.6, True]"
            ]
          },
          "execution_count": 14,
          "metadata": {},
          "output_type": "execute_result"
        }
      ],
      "source": [
        "lista2 = [\"Samir\",2 ,5.6, True]\n",
        "lista2"
      ]
    },
    {
      "cell_type": "markdown",
      "metadata": {
        "id": "ITUIpv6HvgL5"
      },
      "source": [
        "####  **transformando la lista mixta en array**\n",
        "u32 hace referencia al estandar de unicode de caracteres\n",
        "(lo trata como un string)"
      ]
    },
    {
      "cell_type": "code",
      "execution_count": 15,
      "metadata": {
        "colab": {
          "base_uri": "https://localhost:8080/"
        },
        "id": "1rvxW5SSvrah",
        "outputId": "e452cc58-a9e4-4d79-c17d-c44dd32123c0"
      },
      "outputs": [
        {
          "data": {
            "text/plain": [
              "array(['Samir', '2', '5.6', 'True'], dtype='<U32')"
            ]
          },
          "execution_count": 15,
          "metadata": {},
          "output_type": "execute_result"
        }
      ],
      "source": [
        "arreglo2 = np.array(lista2)\n",
        "arreglo2"
      ]
    },
    {
      "cell_type": "markdown",
      "metadata": {
        "id": "aEaCJ2GUwIcJ"
      },
      "source": [
        "#### **consultando la cantidad de memoria ocupada por estructura (paquete sys)**"
      ]
    },
    {
      "cell_type": "code",
      "execution_count": 16,
      "metadata": {
        "colab": {
          "base_uri": "https://localhost:8080/"
        },
        "id": "i4_x7nkTwO3i",
        "outputId": "2667b202-d0f3-456f-aa7c-bdcb1fca1dfb"
      },
      "outputs": [
        {
          "name": "stdout",
          "output_type": "stream",
          "text": [
            "memoria ocupada por la lista: 136 bytes\n",
            "memoria ocupada por el array : 80 bytes\n"
          ]
        }
      ],
      "source": [
        "memoria_lista = sys.getsizeof(lista1)\n",
        "memoria_arreglo = arreglo.nbytes\n",
        "print(f\"memoria ocupada por la lista: {memoria_lista} bytes\")\n",
        "print(f\"memoria ocupada por el array : {memoria_arreglo} bytes\")"
      ]
    },
    {
      "cell_type": "markdown",
      "metadata": {
        "id": "8ZL105slwi76"
      },
      "source": [
        "#### **otros metodos de numpy**"
      ]
    },
    {
      "cell_type": "code",
      "execution_count": 17,
      "metadata": {
        "colab": {
          "base_uri": "https://localhost:8080/"
        },
        "id": "5aOnFUs8wmc5",
        "outputId": "7e02d8c3-1849-4b5b-b059-f7786aac05c7"
      },
      "outputs": [
        {
          "name": "stdout",
          "output_type": "stream",
          "text": [
            "shape: (10,)\n",
            "dimensiones: 1\n",
            "tamaño: 10\n",
            "tipos de datos: int64\n",
            "bytes/elementos: 8\n"
          ]
        }
      ],
      "source": [
        "print(\"shape:\", arreglo.shape) #dimensiones\n",
        "print(\"dimensiones:\", arreglo.ndim) # numero de ejes\n",
        "print(\"tamaño:\", arreglo.size) #total de elementos\n",
        "print(\"tipos de datos:\", arreglo.dtype) #tipo almacenado\n",
        "print(\"bytes/elementos:\", arreglo.itemsize) # tamaño en bytes de cada elemento"
      ]
    },
    {
      "cell_type": "markdown",
      "metadata": {
        "id": "sYCBFPlQxH2Z"
      },
      "source": [
        "#### **obeniendo el promedio del arreglo**"
      ]
    },
    {
      "cell_type": "code",
      "execution_count": 18,
      "metadata": {
        "colab": {
          "base_uri": "https://localhost:8080/"
        },
        "id": "aXFpzGQzxMq6",
        "outputId": "bc43f428-2422-471b-e940-9d702109ab89"
      },
      "outputs": [
        {
          "data": {
            "text/plain": [
              "np.float64(5.5)"
            ]
          },
          "execution_count": 18,
          "metadata": {},
          "output_type": "execute_result"
        }
      ],
      "source": [
        "promedio = np.mean(lista1)\n",
        "promedio"
      ]
    },
    {
      "cell_type": "markdown",
      "metadata": {
        "id": "ux9_KJ98xykB"
      },
      "source": [
        "#### **transformando el arreglo de int a float**\n",
        "el metodo astype() transforma los elementos del arreglo a un tipo determinado de dato numerico"
      ]
    },
    {
      "cell_type": "code",
      "execution_count": 19,
      "metadata": {
        "colab": {
          "base_uri": "https://localhost:8080/"
        },
        "id": "dbxl9sECx4K5",
        "outputId": "67cf4c4d-15ab-46f5-9218-7307b5a01ea0"
      },
      "outputs": [
        {
          "data": {
            "text/plain": [
              "array([ 1.,  2.,  3.,  4.,  5.,  6.,  7.,  8.,  9., 10.], dtype=float32)"
            ]
          },
          "execution_count": 19,
          "metadata": {},
          "output_type": "execute_result"
        }
      ],
      "source": [
        "new_arreglo = arreglo.astype(np.float32)# se puede especficar el tipo de numero flotante (float16) o solamente float pero el valor predeterminado es 64\n",
        "new_arreglo"
      ]
    },
    {
      "cell_type": "markdown",
      "metadata": {
        "id": "LFr3SEOJz6gJ"
      },
      "source": [
        "#### **aplicando el paquete random**"
      ]
    },
    {
      "cell_type": "code",
      "execution_count": 21,
      "metadata": {
        "colab": {
          "base_uri": "https://localhost:8080/"
        },
        "id": "8wQbdZ8_0ChB",
        "outputId": "c1ea7401-ac2f-4426-8ecc-ec9f3469b3dc"
      },
      "outputs": [
        {
          "data": {
            "text/plain": [
              "0.5197332629434531"
            ]
          },
          "execution_count": 21,
          "metadata": {},
          "output_type": "execute_result"
        }
      ],
      "source": [
        "np.random.rand() # solamente genera numeros de 0 a 1"
      ]
    },
    {
      "cell_type": "code",
      "execution_count": 24,
      "metadata": {
        "colab": {
          "base_uri": "https://localhost:8080/"
        },
        "id": "WOxQx_O806mC",
        "outputId": "2ab45ca6-7bc1-4aa0-bf90-1b6e8e4a8736"
      },
      "outputs": [
        {
          "data": {
            "text/plain": [
              "array([0.90846843, 0.81685704, 0.74700896, 0.60733576, 0.98245797])"
            ]
          },
          "execution_count": 24,
          "metadata": {},
          "output_type": "execute_result"
        }
      ],
      "source": [
        "np.random.rand(5) # genera numeros aleatorios (n cantidad)"
      ]
    },
    {
      "cell_type": "code",
      "execution_count": 27,
      "metadata": {
        "colab": {
          "base_uri": "https://localhost:8080/"
        },
        "id": "aLfzzjKI09LR",
        "outputId": "d42c8357-aa44-403b-d10d-15c5cc60a92f"
      },
      "outputs": [
        {
          "data": {
            "text/plain": [
              "array([[[0.6773877 , 0.46318265, 0.87452556, 0.8680676 ],\n",
              "        [0.66424455, 0.73978934, 0.82568726, 0.92649006],\n",
              "        [0.9416611 , 0.10527332, 0.41285358, 0.26202303],\n",
              "        [0.25583358, 0.33619679, 0.02330164, 0.27077349],\n",
              "        [0.8460794 , 0.14350171, 0.05488155, 0.88400792],\n",
              "        [0.47522873, 0.5123364 , 0.91147242, 0.67571353],\n",
              "        [0.01957183, 0.12520807, 0.08448104, 0.89818364],\n",
              "        [0.49746119, 0.04208431, 0.84929681, 0.64025494],\n",
              "        [0.17443449, 0.60091759, 0.17530648, 0.42283813],\n",
              "        [0.53636126, 0.42494031, 0.46276837, 0.03103776]]])"
            ]
          },
          "execution_count": 27,
          "metadata": {},
          "output_type": "execute_result"
        }
      ],
      "source": [
        "np.random.rand(1,10,4) # genera una matriz de numeros aleatorios cantidad filas columnas"
      ]
    },
    {
      "cell_type": "code",
      "execution_count": 3,
      "metadata": {
        "colab": {
          "base_uri": "https://localhost:8080/"
        },
        "id": "rM0dpOp6z-nC",
        "outputId": "0ee2235b-a4ba-421d-9835-31d516d3aa30"
      },
      "outputs": [
        {
          "data": {
            "text/plain": [
              "array([59,  3, 63,  5, 47, 15, 51, 37, 41, 50], dtype=int32)"
            ]
          },
          "execution_count": 3,
          "metadata": {},
          "output_type": "execute_result"
        }
      ],
      "source": [
        "np.random.randint(1,100,10) # el \"int\" es entero entonces genera numeros enteros es igual a los anteriores de 1 al 100 y 10 numeros aleatorios\n",
        "                        #^ es la cantidad\n",
        "                     #^ el maximo\n",
        "                #^el minmo"
      ]
    }
  ],
  "metadata": {
    "colab": {
      "provenance": []
    },
    "kernelspec": {
      "display_name": "Python 3",
      "name": "python3"
    },
    "language_info": {
      "codemirror_mode": {
        "name": "ipython",
        "version": 3
      },
      "file_extension": ".py",
      "mimetype": "text/x-python",
      "name": "python",
      "nbconvert_exporter": "python",
      "pygments_lexer": "ipython3",
      "version": "3.13.3"
    }
  },
  "nbformat": 4,
  "nbformat_minor": 0
}
