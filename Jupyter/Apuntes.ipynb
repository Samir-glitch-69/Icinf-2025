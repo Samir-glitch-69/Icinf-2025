{
 "cells": [
  {
   "cell_type": "markdown",
   "id": "732f39ec",
   "metadata": {
    "id": "732f39ec"
   },
   "source": [
    "# Análisis Completo de Datos con Pandas\n",
    "## Con ejemplo Práctico\n"
   ]
  },
  {
   "cell_type": "markdown",
   "id": "89d71442",
   "metadata": {
    "id": "89d71442"
   },
   "source": [
    "## 1. Importación de Librerías"
   ]
  },
  {
   "cell_type": "code",
   "execution_count": 5,
   "id": "943afe99",
   "metadata": {
    "id": "943afe99"
   },
   "outputs": [
    {
     "name": "stdout",
     "output_type": "stream",
     "text": [
      "✅ Librerías importadas correctamente\n",
      "📊 Pandas versión: 2.3.0\n",
      "🔢 NumPy versión: 2.3.1\n"
     ]
    }
   ],
   "source": [
    "# Importación de librerías esenciales\n",
    "import pandas as pd\n",
    "import numpy as np\n",
    "import sys\n",
    "import matplotlib.pyplot as plt\n",
    "\n",
    "# Configuración para mejorar la visualización\n",
    "plt.style.use('default')\n",
    "pd.set_option('display.max_columns', None)\n",
    "pd.set_option('display.width', None)\n",
    "\n",
    "print(\"✅ Librerías importadas correctamente\")\n",
    "print(f\"📊 Pandas versión: {pd.__version__}\")\n",
    "print(f\"🔢 NumPy versión: {np.__version__}\")"
   ]
  },
  {
   "cell_type": "markdown",
   "id": "02d78e09",
   "metadata": {
    "id": "02d78e09"
   },
   "source": [
    "## 2. Creación y Carga de Datos\n",
    "opcional por que nos van a entregar los df"
   ]
  },
  {
   "cell_type": "code",
   "execution_count": 6,
   "id": "9b2c2c65",
   "metadata": {
    "id": "9b2c2c65"
   },
   "outputs": [
    {
     "name": "stdout",
     "output_type": "stream",
     "text": [
      "=== DATASET CREADO ===\n",
      "   Nombre  Edad  Salario Departamento  Años_Experiencia\n",
      "0     Ana  25.0  50000.0           IT               3.0\n",
      "1    Luis  30.0  60000.0    Marketing               5.0\n",
      "2   María   NaN  55000.0           IT               4.0\n",
      "3  Carlos  35.0      NaN       Ventas               NaN\n",
      "4   Elena  28.0  48000.0           IT               2.0\n",
      "5   Pedro  45.0  75000.0    Marketing              15.0\n",
      "6   Sofía  22.0  42000.0       Ventas               1.0\n",
      "7  Miguel  38.0  68000.0           IT               8.0\n",
      "8   Laura   NaN  52000.0    Marketing               6.0\n",
      "9   Diego  29.0      NaN       Ventas               3.0\n"
     ]
    }
   ],
   "source": [
    "# Creación de datos de ejemplo para demostrar todas las funciones\n",
    "np.random.seed(42)  # Para reproducibilidad\n",
    "\n",
    "data = {\n",
    "    'Nombre': ['Ana', 'Luis', 'María', 'Carlos', 'Elena', 'Pedro', 'Sofía', 'Miguel', 'Laura', 'Diego'],\n",
    "    'Edad': [25, 30, np.nan, 35, 28, 45, 22, 38, np.nan, 29],\n",
    "    'Salario': [50000, 60000, 55000, np.nan, 48000, 75000, 42000, 68000, 52000, np.nan],\n",
    "    'Departamento': ['IT', 'Marketing', 'IT', 'Ventas', 'IT', 'Marketing', 'Ventas', 'IT', 'Marketing', 'Ventas'],\n",
    "    'Años_Experiencia': [3, 5, 4, np.nan, 2, 15, 1, 8, 6, 3]\n",
    "}\n",
    "\n",
    "# Crear DataFrame\n",
    "df = pd.DataFrame(data)\n",
    "print(\"=== DATASET CREADO ===\")\n",
    "print(df)\n",
    "\n",
    "# el de arriba es uno pre hecho pero el de abajo es para un df externo como\n",
    "\n",
    "#ruta = \"Jupyter\\Data\\(La wea del profe)\" siempre con las comillas qls\n",
    "\n",
    "#el passengerid es la primera parte del df o lo que verifica cada dato\n",
    "#df = pd.read_csv(ruta, index_col=\"PassengerId\")\n",
    "\n",
    "#df.head(20)"
   ]
  },
  {
   "cell_type": "markdown",
   "id": "e62448d8",
   "metadata": {
    "id": "e62448d8"
   },
   "source": [
    "## 3. Información sobre Ruta y Dimensiones"
   ]
  },
  {
   "cell_type": "code",
   "execution_count": 7,
   "id": "826b415e",
   "metadata": {
    "id": "826b415e"
   },
   "outputs": [
    {
     "name": "stdout",
     "output_type": "stream",
     "text": [
      "=== INFORMACIÓN BÁSICA DEL DATASET ===\n",
      "📁 Ruta del archivo: Dataset creado en memoria\n",
      "📏 Dimensiones del DataFrame: (10, 5)\n",
      "📊 Número de filas: 10\n",
      "📋 Número de columnas: 5\n",
      "🏷️ Nombres de columnas: ['Nombre', 'Edad', 'Salario', 'Departamento', 'Años_Experiencia']\n"
     ]
    }
   ],
   "source": [
    "print(\"=== INFORMACIÓN BÁSICA DEL DATASET ===\")\n",
    "print(f\"📁 Ruta del archivo: Dataset creado en memoria\")\n",
    "print(f\"📏 Dimensiones del DataFrame: {df.shape}\")\n",
    "print(f\"📊 Número de filas: {df.shape[0]}\")\n",
    "print(f\"📋 Número de columnas: {df.shape[1]}\")\n",
    "print(f\"🏷️ Nombres de columnas: {list(df.columns)}\")"
   ]
  },
  {
   "cell_type": "markdown",
   "id": "ac6c3bdb",
   "metadata": {
    "id": "ac6c3bdb"
   },
   "source": [
    "## 4. Información General del Dataset"
   ]
  },
  {
   "cell_type": "code",
   "execution_count": 8,
   "id": "cf553ecd",
   "metadata": {
    "id": "cf553ecd"
   },
   "outputs": [
    {
     "name": "stdout",
     "output_type": "stream",
     "text": [
      "=== INFORMACIÓN GENERAL ===\n",
      "<class 'pandas.core.frame.DataFrame'>\n",
      "RangeIndex: 10 entries, 0 to 9\n",
      "Data columns (total 5 columns):\n",
      " #   Column            Non-Null Count  Dtype  \n",
      "---  ------            --------------  -----  \n",
      " 0   Nombre            10 non-null     object \n",
      " 1   Edad              8 non-null      float64\n",
      " 2   Salario           8 non-null      float64\n",
      " 3   Departamento      10 non-null     object \n",
      " 4   Años_Experiencia  9 non-null      float64\n",
      "dtypes: float64(3), object(2)\n",
      "memory usage: 532.0+ bytes\n",
      "None\n"
     ]
    },
    {
     "ename": "AttributeError",
     "evalue": "'DataFrame' object has no attribute 'nbytes'",
     "output_type": "error",
     "traceback": [
      "\u001b[31m---------------------------------------------------------------------------\u001b[39m",
      "\u001b[31mAttributeError\u001b[39m                            Traceback (most recent call last)",
      "\u001b[32m~\\AppData\\Local\\Temp\\ipykernel_20308\\790204812.py\u001b[39m in \u001b[36m?\u001b[39m\u001b[34m()\u001b[39m\n\u001b[32m      1\u001b[39m print(\u001b[33m\"=== INFORMACIÓN GENERAL ===\"\u001b[39m)\n\u001b[32m      2\u001b[39m print(df.info())\n\u001b[32m      3\u001b[39m memoria_lista = sys.getsizeof(df) \u001b[38;5;66;03m# obtener el (tamaño) del df\u001b[39;00m\n\u001b[32m----> \u001b[39m\u001b[32m4\u001b[39m memoria_arreglo = df.nbytes \u001b[38;5;66;03m# cantidad e bytes de el df\u001b[39;00m\n\u001b[32m      5\u001b[39m \n\u001b[32m      6\u001b[39m print(f\"Memoria ocupada por la lista: {memoria_lista} Bytes\")\n\u001b[32m      7\u001b[39m print(f\"Memoria ocupada por el array: {memoria_arreglo} Bytes\")\n",
      "\u001b[32mc:\\Users\\samir\\AppData\\Local\\Programs\\Python\\Python313\\Lib\\site-packages\\pandas\\core\\generic.py\u001b[39m in \u001b[36m?\u001b[39m\u001b[34m(self, name)\u001b[39m\n\u001b[32m   6314\u001b[39m             \u001b[38;5;28;01mand\u001b[39;00m name \u001b[38;5;28;01mnot\u001b[39;00m \u001b[38;5;28;01min\u001b[39;00m self._accessors\n\u001b[32m   6315\u001b[39m             \u001b[38;5;28;01mand\u001b[39;00m self._info_axis._can_hold_identifiers_and_holds_name(name)\n\u001b[32m   6316\u001b[39m         ):\n\u001b[32m   6317\u001b[39m             \u001b[38;5;28;01mreturn\u001b[39;00m self[name]\n\u001b[32m-> \u001b[39m\u001b[32m6318\u001b[39m         \u001b[38;5;28;01mreturn\u001b[39;00m object.__getattribute__(self, name)\n",
      "\u001b[31mAttributeError\u001b[39m: 'DataFrame' object has no attribute 'nbytes'"
     ]
    }
   ],
   "source": [
    "print(\"=== INFORMACIÓN GENERAL ===\")\n",
    "print(df.info())\n",
    "memoria_lista = sys.getsizeof(df) # obtener el (tamaño) del df\n",
    "memoria_arreglo = df.nbytes # cantidad e bytes de el df\n",
    "\n",
    "print(f\"Memoria ocupada por la lista: {memoria_lista} Bytes\")\n",
    "print(f\"Memoria ocupada por el array: {memoria_arreglo} Bytes\")\n",
    "\n",
    "print(\"Shape:\", df.shape) # Dimensiones\n",
    "print(\"Dimensiones:\", df.ndim) # Numero de ejes\n",
    "print(\"Tamaño:\", df.size) # Total de elementos\n",
    "print(\"Tipo de dato:\", df.dtype) # Tipo almacenado\n",
    "print(\"Bytes/elem:\", df.itemsize) # Tamaño en bytes de cada elemento\n",
    "print(\"\\n=== TIPOS DE DATOS ===\")\n",
    "print(df.dtypes)"
   ]
  },
  {
   "cell_type": "markdown",
   "id": "caa04983",
   "metadata": {
    "id": "caa04983"
   },
   "source": [
    "## 5. Estadísticas Descriptivas"
   ]
  },
  {
   "cell_type": "code",
   "execution_count": null,
   "id": "93e894d5",
   "metadata": {
    "id": "93e894d5"
   },
   "outputs": [],
   "source": [
    "print(\"=== ESTADÍSTICAS DESCRIPTIVAS ===\")\n",
    "print(df.describe())\n",
    "\n",
    "print(\"\\n=== ESTADÍSTICAS DESCRIPTIVAS COMPLETAS ===\")\n",
    "print(df.describe(include='all'))"
   ]
  },
  {
   "cell_type": "markdown",
   "id": "64ad0933",
   "metadata": {
    "id": "64ad0933"
   },
   "source": [
    "## 6. Mostrar Filas de Datos"
   ]
  },
  {
   "cell_type": "code",
   "execution_count": null,
   "id": "a211a03a",
   "metadata": {
    "id": "a211a03a"
   },
   "outputs": [],
   "source": [
    "print(\"=== PRIMERAS 5 FILAS ===\")\n",
    "print(df.head())\n",
    "\n",
    "print(\"\\n=== ÚLTIMAS 3 FILAS ===\")\n",
    "print(df.tail(3))\n",
    "\n",
    "print(\"\\n=== MUESTRA ALEATORIA (3 filas) ===\")\n",
    "print(df.sample(3))"
   ]
  },
  {
   "cell_type": "markdown",
   "id": "92e8c567",
   "metadata": {
    "id": "92e8c567"
   },
   "source": [
    "## 7. Identificación Completa de Datos Nulos"
   ]
  },
  {
   "cell_type": "code",
   "execution_count": null,
   "id": "8b3fc9b9",
   "metadata": {
    "id": "8b3fc9b9"
   },
   "outputs": [],
   "source": [
    "print(\"=== IDENTIFICACIÓN DE DATOS NULOS ===\")\n",
    "\n",
    "# Verificar si hay datos nulos en todo el DataFrame\n",
    "print(f\"❓ ¿Hay datos nulos en el DataFrame? {df.isnull().any().any()}\")\n",
    "\n",
    "# Contar datos nulos por columna\n",
    "print(\"\\n📊 Datos nulos por columna:\")\n",
    "nulos_por_columna = df.isnull().sum()\n",
    "print(nulos_por_columna)\n",
    "\n",
    "# Porcentaje de datos nulos\n",
    "print(\"\\n📈 Porcentaje de datos nulos por columna:\")\n",
    "porcentaje_nulos = (df.isnull().sum() / len(df)) * 100\n",
    "print(porcentaje_nulos.round(2))\n",
    "\n",
    "# Identificar columnas con nulos\n",
    "columnas_con_nulos = df.columns[df.isnull().any()].tolist()\n",
    "print(f\"\\n🔍 Columnas con datos nulos: {columnas_con_nulos}\")"
   ]
  },
  {
   "cell_type": "code",
   "execution_count": null,
   "id": "b370cd98",
   "metadata": {
    "id": "b370cd98"
   },
   "outputs": [],
   "source": [
    "# Mostrar filas específicas con nulos\n",
    "print(\"=== FILAS CON DATOS NULOS ===\")\n",
    "filas_con_nulos = df[df.isnull().any(axis=1)]\n",
    "print(filas_con_nulos)\n",
    "\n",
    "print(f\"\\n📋 Índices de filas con datos nulos: {filas_con_nulos.index.tolist()}\")"
   ]
  },
  {
   "cell_type": "markdown",
   "id": "f31d54cd",
   "metadata": {
    "id": "f31d54cd"
   },
   "source": [
    "## 8. Eliminación de Datos Nulos y Duplicados"
   ]
  },
  {
   "cell_type": "code",
   "execution_count": null,
   "id": "4eb124d3",
   "metadata": {
    "id": "4eb124d3"
   },
   "outputs": [],
   "source": [
    "print(\"=== ELIMINACIÓN DE DATOS NULOS ===\")\n",
    "df_sin_nulos = df.dropna()\n",
    "print(f\"📊 DataFrame original: {df.shape}\")\n",
    "print(f\"📊 DataFrame sin nulos: {df_sin_nulos.shape}\")\n",
    "print(f\"🗑️ Filas eliminadas: {df.shape[0] - df_sin_nulos.shape[0]}\")\n",
    "\n",
    "print(\"\\n=== DATAFRAME DESPUÉS DE ELIMINAR NULOS ===\")\n",
    "print(df_sin_nulos)\n",
    "\n",
    "#los de abajo son datos de otras clases\n",
    "\n",
    "nulos_columnas = df.isnull().sum() # La cantidad de nulos que tiene qen cada columna\n",
    "nulos_filas = df[df.isnull().any(axis=1)] # Se refiere a que son las filas eje x\n",
    "total_nulos = nulos_columnas.sum()\n",
    "\n",
    "duplicados = df.duplicated().sum()\n",
    "if duplicados > 0:\n",
    "  print(f\"Se encontraron {duplicados} filas duplicadas. Procediendo a eliminarlas\")\n",
    "  df.drop_duplicates(inplace=True)\n",
    "else:\n",
    "  print(\"No se encontraron filas duplicadas. No es necesario eliminarlas\")\n",
    "\n",
    "print(\"Dimensiones tras el paso de duplicados:\", df.shape)\n",
    "\n",
    "nulos_columnas # MOSTRANDO CUANTOS NULOS HAY EN CADA COLUMNA\n",
    "\n",
    "print(total_nulos)\n",
    "\n",
    "#otra forma dee eliminar nunlos es esta\n",
    "if nulos_columnas[\"Age\"] > 0:\n",
    "  df[\"Age\"] = df [\"Age\"].fillna(df[\"Age\"].median())\n",
    "  print(\"Reemplazo de nulos por las mediana\")\n",
    "else:\n",
    "  print(\"No hay valores nulos que limpiar\")\n",
    "\n",
    "if nulos_columnas[\"Embarked\"] > 0:\n",
    "  df.dropna(subset=[\"Embarked\"], inplace=True)\n",
    "  print(\"Limpieza de nulos en completada!\")\n",
    "else:\n",
    "  print(\"No hay valores nulos que limpiar\")\n",
    "\n",
    "if nulos_columnas[\"Survived\"] > 0:\n",
    "  df.dropna(subset=[\"Survived\"], inplace=True)\n",
    "  print(\"Limpieza de nulos completa\")\n",
    "else:\n",
    "  print(\"No hay valores nulos que limpiar\")\n",
    "\n",
    "#IDENTIFICANDO LAS FILAS EN ESPECIFICAS CON DATOS NULOS\n",
    "\n",
    "  # Filtrar las filas que contienen valores nulos\n",
    "filas_nulas = datos[datos.isnull().any(axis=1)]\n",
    "\n",
    "filas_nulas"
   ]
  },
  {
   "cell_type": "markdown",
   "id": "fe1048a3",
   "metadata": {
    "id": "fe1048a3"
   },
   "source": [
    "## 9. Funciones de Verificación y Conteo"
   ]
  },
  {
   "cell_type": "code",
   "execution_count": null,
   "id": "29fe66dd",
   "metadata": {
    "id": "29fe66dd"
   },
   "outputs": [],
   "source": [
    "print(\"=== FUNCIONES DE VERIFICACIÓN Y CONTEO ===\")\n",
    "\n",
    "# Función 1: Conteo de valores únicos\n",
    "print(\"📊 Conteo de empleados por departamento:\")\n",
    "conteo_dept = df['Departamento'].value_counts()\n",
    "print(conteo_dept)\n",
    "\n",
    "print(\"\\n📋 Valores únicos por columna:\")\n",
    "for columna in df.columns:\n",
    "    if df[columna].dtype == 'object':\n",
    "        print(f\"{columna}: {df[columna].unique()}\")\n",
    "\n",
    "# Función 2: Verificar duplicados\n",
    "print(f\"\\n❓ ¿Hay filas duplicadas? {df.duplicated().any()}\")\n",
    "print(f\"🔢 Número de filas duplicadas: {df.duplicated().sum()}\")\n",
    "\n",
    "# Verificar duplicados por columna específica\n",
    "print(f\"\\n❓ ¿Hay nombres duplicados? {df['Nombre'].duplicated().any()}\")\n",
    "\n",
    "#FILTRO\n",
    "def filtro_rpg(genres):\n",
    "    return 'RPG' in genres\n",
    "\n",
    "#Se aplica el filtro utilizando apply\n",
    "datosRPG = datos[datos['Genres'].apply(filtro_rpg)]"
   ]
  },
  {
   "cell_type": "markdown",
   "id": "d78f54d6",
   "metadata": {
    "id": "d78f54d6"
   },
   "source": [
    "## 10. Transformación del Dataset (1-3 columnas específicas)"
   ]
  },
  {
   "cell_type": "code",
   "execution_count": null,
   "id": "7659d3b1",
   "metadata": {
    "id": "7659d3b1"
   },
   "outputs": [],
   "source": [
    "print(\"=== TRANSFORMACIÓN DEL DATASET (3 COLUMNAS) ===\")\n",
    "df_filtrado = df[['Nombre', 'Edad', 'Salario']].copy()\n",
    "print(\"📊 Dataset filtrado con 3 columnas:\")\n",
    "print(df_filtrado)\n",
    "\n",
    "print(\"\\n=== ALTERNATIVA: DATASET CON 1 COLUMNA ===\")\n",
    "df_una_columna = df[['Departamento']].copy()\n",
    "print(df_una_columna)\n",
    "\n",
    "#Muestra el dataset solamente incluyendo la columnas Titulo y Ranting\n",
    "nombresRPG = datosRPG[['Title', 'Rating']]\n",
    "nombresRPG.head()\n",
    "\n",
    "nombresRPG.info() #info del filtrado"
   ]
  },
  {
   "cell_type": "markdown",
   "id": "b37865c0",
   "metadata": {
    "id": "b37865c0"
   },
   "source": [
    "## 11. Información del Dataset Filtrado"
   ]
  },
  {
   "cell_type": "code",
   "execution_count": null,
   "id": "6e12d1ac",
   "metadata": {
    "id": "6e12d1ac"
   },
   "outputs": [],
   "source": [
    "print(\"=== INFORMACIÓN DEL DATASET FILTRADO ===\")\n",
    "print(f\"📏 Dimensiones del DataFrame filtrado: {df_filtrado.shape}\")\n",
    "print(f\"🏷️ Columnas: {list(df_filtrado.columns)}\")\n",
    "print(\"\\n📋 Información detallada:\")\n",
    "print(df_filtrado.info())\n",
    "\n",
    "print(\"\\n📊 Estadísticas del dataset filtrado:\")\n",
    "print(df_filtrado.describe())"
   ]
  },
  {
   "cell_type": "markdown",
   "id": "9cfb08c7",
   "metadata": {
    "id": "9cfb08c7"
   },
   "source": [
    "## 12. Verificar Datos Nulos en DataFrame Filtrado"
   ]
  },
  {
   "cell_type": "code",
   "execution_count": null,
   "id": "f62717a3",
   "metadata": {
    "id": "f62717a3"
   },
   "outputs": [],
   "source": [
    "print(\"=== DATOS NULOS EN DATASET FILTRADO ===\")\n",
    "print(f\"❓ ¿Hay datos nulos en el DataFrame filtrado? {df_filtrado.isnull().any().any()}\")\n",
    "\n",
    "print(\"\\n📊 Datos nulos por columna en dataset filtrado:\")\n",
    "print(df_filtrado.isnull().sum())\n",
    "\n",
    "print(\"\\n📈 Porcentaje de datos nulos en dataset filtrado:\")\n",
    "print(((df_filtrado.isnull().sum() / len(df_filtrado)) * 100).round(2))"
   ]
  },
  {
   "cell_type": "markdown",
   "id": "c0032940",
   "metadata": {
    "id": "c0032940"
   },
   "source": [
    "## 13. Gráfico de Barras Profesional"
   ]
  },
  {
   "cell_type": "code",
   "execution_count": 9,
   "id": "3e86da3f",
   "metadata": {
    "id": "3e86da3f"
   },
   "outputs": [
    {
     "name": "stdout",
     "output_type": "stream",
     "text": [
      "=== CREANDO GRÁFICO DE BARRAS ===\n"
     ]
    },
    {
     "data": {
      "image/png": "[encoded data removed]",
      "text/plain": [
       "<Figure size 1200x700 with 1 Axes>"
      ]
     },
     "metadata": {},
     "output_type": "display_data"
    },
    {
     "name": "stdout",
     "output_type": "stream",
     "text": [
      "✅ Gráfico de barras creado exitosamente\n"
     ]
    },
    {
     "data": {
      "text/plain": [
       "\"\\ndatasetRPG = nombresRPG.head(10)\\ndatasetRPG.set_index('Title', inplace=True)  # Establecer la columna 'Title' como índice\\ndatasetRPG['Rating'].plot(x=None, kind='bar')  # Utilizar el índice en el eje x\\n\\n\\n\\nAGREGANDO LAS ETIQUETAS DE DATOS AL GRÁFICO\\ndatasetRPG = nombresRPG.head(10)\\ndatasetRPG.set_index('Title', inplace=True) #Inplace Modifica el DataFrame dataserRPG directamente sin necesidad de reasignarlo\\n\\ngrafico = datasetRPG['Rating'].plot(kind='bar')\\n\\n#Agregando etiquetas de rating en las barras\\nfor i, rating in enumerate(datasetRPG['Rating']):  #enumarate: itera sobre los índices y valores de la serie 'Rating'\\n    grafico.annotate(str(rating), xy=(i, rating), ha='center', va='bottom') #ha: alineación horizontal - #va: alineación vertical\\n\\nplt.show()\""
      ]
     },
     "execution_count": 9,
     "metadata": {},
     "output_type": "execute_result"
    }
   ],
   "source": [
    "print(\"=== CREANDO GRÁFICO DE BARRAS ===\")\n",
    "\n",
    "# Preparar datos\n",
    "departamentos = df['Departamento'].value_counts()\n",
    "\n",
    "# Crear gráfico\n",
    "plt.figure(figsize=(12, 7))\n",
    "bars = plt.bar(departamentos.index, departamentos.values,\n",
    "               color=['#FF6B6B', '#4ECDC4', '#45B7D1'],\n",
    "               edgecolor='black', linewidth=1.2, alpha=0.8)\n",
    "\n",
    "# Personalización\n",
    "plt.title('Distribución de Empleados por Departamento',\n",
    "          fontsize=18, fontweight='bold', pad=20)\n",
    "plt.xlabel('Departamento', fontsize=14, fontweight='bold')\n",
    "plt.ylabel('Número de Empleados', fontsize=14, fontweight='bold')\n",
    "plt.xticks(rotation=0, fontsize=12)\n",
    "plt.yticks(fontsize=12)\n",
    "\n",
    "# Agregar grilla\n",
    "plt.grid(axis='y', alpha=0.3, linestyle='--')\n",
    "\n",
    "# Agregar valores en las barras\n",
    "for bar, value in zip(bars, departamentos.values):\n",
    "    plt.text(bar.get_x() + bar.get_width()/2, bar.get_height() + 0.1,\n",
    "             str(value), ha='center', va='bottom',\n",
    "             fontsize=12, fontweight='bold')\n",
    "\n",
    "plt.tight_layout()\n",
    "plt.show()\n",
    "\n",
    "print(\"✅ Gráfico de barras creado exitosamente\")\n",
    "\n",
    "\n",
    "'''\n",
    "datasetRPG = nombresRPG.head(10)\n",
    "datasetRPG.set_index('Title', inplace=True)  # Establecer la columna 'Title' como índice\n",
    "datasetRPG['Rating'].plot(x=None, kind='bar')  # Utilizar el índice en el eje x\n",
    "\n",
    "\n",
    "\n",
    "AGREGANDO LAS ETIQUETAS DE DATOS AL GRÁFICO\n",
    "datasetRPG = nombresRPG.head(10)\n",
    "datasetRPG.set_index('Title', inplace=True) #Inplace Modifica el DataFrame dataserRPG directamente sin necesidad de reasignarlo\n",
    "\n",
    "grafico = datasetRPG['Rating'].plot(kind='bar')\n",
    "\n",
    "#Agregando etiquetas de rating en las barras\n",
    "for i, rating in enumerate(datasetRPG['Rating']):  #enumarate: itera sobre los índices y valores de la serie 'Rating'\n",
    "    grafico.annotate(str(rating), xy=(i, rating), ha='center', va='bottom') #ha: alineación horizontal - #va: alineación vertical\n",
    "\n",
    "plt.show()'''"
   ]
  },
  {
   "cell_type": "markdown",
   "id": "43a5f382",
   "metadata": {
    "id": "43a5f382"
   },
   "source": [
    "## 14. Cálculo de Promedios"
   ]
  },
  {
   "cell_type": "code",
   "execution_count": null,
   "id": "56420a0d",
   "metadata": {
    "id": "56420a0d"
   },
   "outputs": [],
   "source": [
    "print(\"=== CÁLCULO DE PROMEDIOS ===\")\n",
    "\n",
    "# Promedios generales\n",
    "df_numerico = df.select_dtypes(include=[np.number])\n",
    "promedios = df_numerico.mean()\n",
    "print(\"📊 Promedios de columnas numéricas:\")\n",
    "for columna, promedio in promedios.items():\n",
    "    print(f\"   {columna}: {promedio:.2f}\")\n",
    "\n",
    "# Promedio por departamento\n",
    "print(\"\\n📈 Promedio de salario por departamento:\")\n",
    "promedio_salario_dept = df.groupby('Departamento')['Salario'].mean()\n",
    "print(promedio_salario_dept.round(2))\n",
    "\n",
    "# Promedio de edad por departamento\n",
    "print(\"\\n📈 Promedio de edad por departamento:\")\n",
    "promedio_edad_dept = df.groupby('Departamento')['Edad'].mean()\n",
    "print(promedio_edad_dept.round(2))\n",
    "\n",
    "# Resumen estadístico por departamento\n",
    "print(\"\\n📊 Resumen estadístico por departamento:\")\n",
    "resumen_dept = df.groupby('Departamento').agg({\n",
    "    'Salario': ['mean', 'median', 'std'],\n",
    "    'Edad': ['mean', 'median', 'std'],\n",
    "    'Años_Experiencia': ['mean', 'median', 'std']\n",
    "})\n",
    "print(resumen_dept.round(2))\n",
    "\n",
    "\n",
    "\n",
    "'''\n",
    "#La función lambda se aplica a cada elemento de la columna Genres\n",
    "#Esta es una función comprueba si la cadena \"RPG\" está presente en el valor de cada fila (Resultado serie de booleanos)\n",
    "\n",
    "ratings_RPG = data_sin_nulos[data_sin_nulos['Genres'].apply(lambda x: 'RPG' in x)]['Rating']\n",
    "promedio_RPG = ratings_RPG.mean()\n",
    "\n",
    "promedio_RPG\n",
    "'''\n",
    "\n",
    "'''\n",
    "GENERO Y PROMEDIO\n",
    "#La función DataFrame crea un nuevo DataFrame vacío o a partir de datos existentes\n",
    "#Recibe un diccionario, especificando las etiquetas de las columnas (claves) y sus valores respectivos\n",
    "dataset_promedios = pd.DataFrame({'Género': ['RPG', 'Indie'], 'Promedio': [promedio_RPG, promedio_Indie]})'''"
   ]
  },
  {
   "cell_type": "markdown",
   "id": "3b72c47d",
   "metadata": {
    "id": "3b72c47d"
   },
   "source": [
    "## 15. Gráfico de Torta Profesional"
   ]
  },
  {
   "cell_type": "code",
   "execution_count": null,
   "id": "268123d6",
   "metadata": {
    "id": "268123d6"
   },
   "outputs": [],
   "source": [
    "print(\"=== CREANDO GRÁFICO DE TORTA ===\")\n",
    "\n",
    "# Preparar datos\n",
    "departamentos = df['Departamento'].value_counts()\n",
    "\n",
    "# Crear gráfico\n",
    "plt.figure(figsize=(10, 8))\n",
    "colores = ['#FF6B6B', '#4ECDC4', '#45B7D1']\n",
    "explode = (0.05, 0.05, 0.05)  # Separar las porciones\n",
    "\n",
    "wedges, texts, autotexts = plt.pie(departamentos.values,\n",
    "                                   labels=departamentos.index,\n",
    "                                   autopct='%1.1f%%',\n",
    "                                   colors=colores,\n",
    "                                   startangle=90,\n",
    "                                   explode=explode,\n",
    "                                   shadow=True,\n",
    "                                   textprops={'fontsize': 12})\n",
    "\n",
    "# Personalización del título\n",
    "plt.title('Distribución Porcentual de Empleados por Departamento',\n",
    "          fontsize=16, fontweight='bold', pad=20)\n",
    "\n",
    "# Mejorar el aspecto del texto\n",
    "for autotext in autotexts:\n",
    "    autotext.set_color('white')\n",
    "    autotext.set_fontweight('bold')\n",
    "    autotext.set_fontsize(11)\n",
    "\n",
    "# Agregar leyenda\n",
    "plt.legend(wedges, [f'{dept}: {count} empleados' for dept, count in departamentos.items()],\n",
    "           title=\"Departamentos\",\n",
    "           loc=\"center left\",\n",
    "           bbox_to_anchor=(1, 0, 0.5, 1))\n",
    "\n",
    "plt.axis('equal')\n",
    "plt.tight_layout()\n",
    "plt.show()\n",
    "\n",
    "print(\"✅ Gráfico de torta creado exitosamente\")\n",
    "\n",
    "'''\n",
    "torta mas facil\n",
    "#plt.pie crea gráficos circulares\n",
    "#autopct: es una cadena de formato que especifica cómo se mostrarán los porcentajes en el gráfico circular\n",
    "plt.pie(dataset_promedios['Promedio'], labels=dataset_promedios['Género'], autopct='%1.1f%%')\n",
    "plt.title('Promedio de Rating por Género')\n",
    "plt.show()\n",
    "'''"
   ]
  },
  {
   "cell_type": "markdown",
   "id": "5b898070",
   "metadata": {
    "id": "5b898070"
   },
   "source": [
    "## 16. Gráfico Lineal con Diamantes"
   ]
  },
  {
   "cell_type": "code",
   "execution_count": null,
   "id": "6fed046e",
   "metadata": {
    "id": "6fed046e"
   },
   "outputs": [],
   "source": [
    "print(\"=== CREANDO GRÁFICO LINEAL CON DIAMANTES ===\")\n",
    "\n",
    "# Usamos datos sin nulos para el gráfico\n",
    "df_plot = df.dropna()\n",
    "\n",
    "# Crear gráfico\n",
    "plt.figure(figsize=(14, 8))\n",
    "\n",
    "# Gráfico principal\n",
    "plt.plot(range(len(df_plot)), df_plot['Edad'],\n",
    "         marker='D', markersize=10,\n",
    "         linewidth=3, color='#FF6B6B',\n",
    "         markerfacecolor='#4ECDC4',\n",
    "         markeredgecolor='#FF6B6B',\n",
    "         markeredgewidth=2,\n",
    "         alpha=0.8)\n",
    "\n",
    "# Personalización\n",
    "plt.title('Edad de Empleados (Línea con Diamantes)',\n",
    "          fontsize=18, fontweight='bold', pad=20)\n",
    "plt.xlabel('Empleados', fontsize=14, fontweight='bold')\n",
    "plt.ylabel('Edad (años)', fontsize=14, fontweight='bold')\n",
    "\n",
    "# Configurar etiquetas del eje X\n",
    "plt.xticks(range(len(df_plot)), df_plot['Nombre'], rotation=45, fontsize=11)\n",
    "plt.yticks(fontsize=12)\n",
    "\n",
    "# Agregar grilla\n",
    "plt.grid(True, alpha=0.3, linestyle='--')\n",
    "\n",
    "# Agregar valores en los puntos\n",
    "for i, (nombre, edad) in enumerate(zip(df_plot['Nombre'], df_plot['Edad'])):\n",
    "    plt.annotate(f'{int(edad)} años',\n",
    "                (i, edad),\n",
    "                textcoords=\"offset points\",\n",
    "                xytext=(0, 15),\n",
    "                ha='center',\n",
    "                fontsize=10,\n",
    "                fontweight='bold',\n",
    "                bbox=dict(boxstyle='round,pad=0.3', facecolor='white', alpha=0.8))\n",
    "\n",
    "# Agregar línea de promedio\n",
    "promedio_edad = df_plot['Edad'].mean()\n",
    "plt.axhline(y=promedio_edad, color='red', linestyle='--', alpha=0.7, linewidth=2)\n",
    "plt.text(len(df_plot)/2, promedio_edad + 1, f'Promedio: {promedio_edad:.1f} años',\n",
    "         ha='center', fontweight='bold',\n",
    "         bbox=dict(boxstyle='round,pad=0.5', facecolor='yellow', alpha=0.7))\n",
    "\n",
    "plt.tight_layout()\n",
    "plt.show()\n",
    "\n",
    "print(\"✅ Gráfico lineal con diamantes creado exitosamente\")"
   ]
  },
  {
   "cell_type": "markdown",
   "id": "2a1fda3f",
   "metadata": {
    "id": "2a1fda3f"
   },
   "source": [
    "## 17. Exportación de Datos"
   ]
  },
  {
   "cell_type": "code",
   "execution_count": null,
   "id": "2469b5d3",
   "metadata": {
    "id": "2469b5d3"
   },
   "outputs": [],
   "source": [
    "#ACORDAR DE EXPORTAR LOS DATASET CORRECTOS\n",
    "\n",
    "\n",
    "print(\"=== EXPORTACIÓN DE DATOS ===\")\n",
    "\n",
    "# Exportar DataFrame original a CSV\n",
    "try:\n",
    "    df.to_csv('empleados_completo.csv', index=False, encoding='utf-8')\n",
    "    print(\"✅ DataFrame completo exportado a: empleados_completo.csv\")\n",
    "except Exception as e:\n",
    "    print(f\"❌ Error al exportar DataFrame completo: {e}\")\n",
    "\n",
    "# Exportar DataFrame filtrado a CSV\n",
    "try:\n",
    "    df_filtrado.to_csv('empleados_filtrado.csv', index=False, encoding='utf-8')\n",
    "    print(\"✅ DataFrame filtrado exportado a: empleados_filtrado.csv\")\n",
    "except Exception as e:\n",
    "    print(f\"❌ Error al exportar DataFrame filtrado: {e}\")\n",
    "\n",
    "# Exportar DataFrame sin nulos a Excel\n",
    "try:\n",
    "    df_sin_nulos.to_excel('empleados_sin_nulos.xlsx', index=False, engine='openpyxl')\n",
    "    print(\"✅ DataFrame sin nulos exportado a: empleados_sin_nulos.xlsx\")\n",
    "except ImportError:\n",
    "    print(\"⚠️ Para exportar a Excel, instala: pip install openpyxl\")\n",
    "except Exception as e:\n",
    "    print(f\"❌ Error al exportar a Excel: {e}\")\n",
    "\n",
    "# Exportar estadísticas a CSV\n",
    "try:\n",
    "    estadisticas = df.describe()\n",
    "    estadisticas.to_csv('estadisticas_empleados.csv', encoding='utf-8')\n",
    "    print(\"✅ Estadísticas exportadas a: estadisticas_empleados.csv\")\n",
    "except Exception as e:\n",
    "    print(f\"❌ Error al exportar estadísticas: {e}\")\n",
    "\n",
    "# Exportar resumen por departamento\n",
    "try:\n",
    "    resumen_departamentos = df.groupby('Departamento').agg({\n",
    "        'Salario': ['mean', 'median', 'count'],\n",
    "        'Edad': ['mean', 'median'],\n",
    "        'Años_Experiencia': ['mean', 'median']\n",
    "    })\n",
    "    resumen_departamentos.to_csv('resumen_por_departamento.csv', encoding='utf-8')\n",
    "    print(\"✅ Resumen por departamento exportado a: resumen_por_departamento.csv\")\n",
    "except Exception as e:\n",
    "    print(f\"❌ Error al exportar resumen por departamento: {e}\")"
   ]
  },
  {
   "cell_type": "markdown",
   "id": "ecb28d45",
   "metadata": {
    "id": "ecb28d45"
   },
   "source": [
    "# Laboratorio de Programación - Limpieza y Visualización de CSV\n",
    "\n",
    "Este notebook incluye:\n",
    "- Montaje de Google Drive\n",
    "- Carga de CSV\n",
    "- Limpieza de datos (valores nulos)\n",
    "- Exploración del dataset\n",
    "- Gráficos con matplotlib\n",
    "- Ejemplo de análisis de datos del Titanic\n",
    "- **Sys:** Para variables y funciones que interactuan directamente con Python\n",
    "(Import sys)"
   ]
  },
  {
   "cell_type": "code",
   "execution_count": null,
   "id": "7ea9cc31",
   "metadata": {
    "id": "7ea9cc31"
   },
   "outputs": [],
   "source": [
    "# Montar Google Drive para acceder a archivos en /content/drive\n",
    "from google.colab import drive  # Importamos la librería para montar Google Drive\n",
    "drive.mount('/content/drive')   # Montamos el drive en la ruta especificada"
   ]
  },
  {
   "cell_type": "code",
   "execution_count": null,
   "id": "95b3e399",
   "metadata": {
    "id": "95b3e399"
   },
   "outputs": [],
   "source": [
    "# Importar las librerías necesarias\n",
    "import pandas as pd               # Librería para manipulación de datos\n",
    "import numpy as np                # Librería para cálculos numéricos\n",
    "import matplotlib.pyplot as plt   # Librería para crear gráficos"
   ]
  },
  {
   "cell_type": "code",
   "execution_count": null,
   "id": "314625b8",
   "metadata": {
    "id": "314625b8"
   },
   "outputs": [],
   "source": [
    "# Cargar el archivo CSV desde Google Drive\n",
    "ruta_csv = '/content/drive/MyDrive/archivo.csv'  # Ruta al archivo CSV\n",
    "df = pd.read_csv(ruta_csv)                       # Cargamos el CSV en un DataFrame\n",
    "df.head()                                        # Mostramos las primeras filas del DataFrame"
   ]
  },
  {
   "cell_type": "code",
   "execution_count": null,
   "id": "089e0eed",
   "metadata": {
    "id": "089e0eed"
   },
   "outputs": [],
   "source": [
    "# Verificar cuántos valores nulos hay por columna\n",
    "df.isnull().sum()  # Devuelve la suma de valores nulos en cada columna"
   ]
  },
  {
   "cell_type": "code",
   "execution_count": null,
   "id": "7f16f10c",
   "metadata": {
    "id": "7f16f10c"
   },
   "outputs": [],
   "source": [
    "# Eliminar filas que contengan valores nulos\n",
    "df_limpio = df.dropna()  # Crea un nuevo DataFrame sin filas con valores nulos\n",
    "df_limpio.head()         # Muestra las primeras filas del DataFrame limpio"
   ]
  },
  {
   "cell_type": "code",
   "execution_count": null,
   "id": "bb4fc8d6",
   "metadata": {
    "id": "bb4fc8d6"
   },
   "outputs": [],
   "source": [
    "# Mostrar estadísticas descriptivas del dataset limpio\n",
    "df_limpio.describe()  # Incluye media, desviación estándar, mínimos, máximos, etc."
   ]
  },
  {
   "cell_type": "code",
   "execution_count": null,
   "id": "d4f8d349",
   "metadata": {
    "id": "d4f8d349"
   },
   "outputs": [],
   "source": [
    "# Gráfico de barras de una variable categórica\n",
    "df_limpio['columna_categorica'].value_counts().plot(kind='bar')  # Conteo de categorías\n",
    "plt.title('Gráfico de barras')             # Título del gráfico\n",
    "plt.xlabel('Categorías')                   # Etiqueta del eje X\n",
    "plt.ylabel('Frecuencia')                   # Etiqueta del eje Y\n",
    "plt.show()                                  # Mostrar el gráfico"
   ]
  },
  {
   "cell_type": "code",
   "execution_count": null,
   "id": "3ab726e2",
   "metadata": {
    "id": "3ab726e2"
   },
   "outputs": [],
   "source": [
    "# Histograma de una variable numérica\n",
    "df_limpio['columna_numerica'].plot(kind='hist', bins=20)  # Histograma con 20 intervalos\n",
    "plt.title('Histograma')               # Título del gráfico\n",
    "plt.xlabel('Valores')                 # Etiqueta del eje X\n",
    "plt.ylabel('Frecuencia')              # Etiqueta del eje Y\n",
    "plt.show()                             # Mostrar el gráfico"
   ]
  },
  {
   "cell_type": "code",
   "execution_count": null,
   "id": "24cba82e",
   "metadata": {
    "id": "24cba82e"
   },
   "outputs": [],
   "source": [
    "# Gráfico de dispersión entre dos columnas numéricas\n",
    "plt.scatter(df_limpio['columna_x'], df_limpio['columna_y'])  # Gráfico de puntos\n",
    "plt.title('Gráfico de dispersión')         # Título\n",
    "plt.xlabel('X')                            # Eje X\n",
    "plt.ylabel('Y')                            # Eje Y\n",
    "plt.show()                                 # Mostrar gráfico"
   ]
  },
  {
   "cell_type": "code",
   "execution_count": null,
   "id": "1b369c7d",
   "metadata": {
    "id": "1b369c7d"
   },
   "outputs": [],
   "source": [
    "# Gráfico de pastel para una columna categórica\n",
    "conteo = df_limpio['columna_categorica'].value_counts()  # Conteo de categorías\n",
    "plt.pie(conteo, labels=conteo.index, autopct='%1.1f%%', startangle=90)  # Pie chart\n",
    "plt.title('Gráfico de Pastel')     # Título\n",
    "plt.axis('equal')                  # Hace que el gráfico sea circular\n",
    "plt.show()                          # Mostrar gráfico"
   ]
  },
  {
   "cell_type": "markdown",
   "id": "21ad0939",
   "metadata": {
    "id": "21ad0939"
   },
   "source": [
    "## Ejemplo: Análisis de sobrevivientes en Titanic"
   ]
  },
  {
   "cell_type": "code",
   "execution_count": null,
   "id": "1e02d92e",
   "metadata": {
    "id": "1e02d92e"
   },
   "outputs": [],
   "source": [
    "# Función para analizar archivo titanic.csv\n",
    "def analizar_titanic(path_csv):\n",
    "    df = pd.read_csv(path_csv)  # Cargar el archivo CSV\n",
    "\n",
    "    conteo = df['Survived'].value_counts()  # Contar 0 = fallecido, 1 = sobreviviente\n",
    "\n",
    "    print('Fallecidos:', conteo[0])         # Mostrar número de fallecidos\n",
    "    print('Sobrevivientes:', conteo[1])     # Mostrar número de sobrevivientes\n",
    "\n",
    "    conteo.index = ['Fallecidos', 'Sobrevivientes']  # Renombrar índices\n",
    "\n",
    "    # Gráfico de barras de sobrevivencia\n",
    "    conteo.plot(kind='bar', color=['red', 'green'])  # Crear gráfico\n",
    "    plt.title('Supervivencia en el Titanic')        # Título\n",
    "    plt.ylabel('Cantidad de personas')              # Eje Y\n",
    "    plt.show()                                      # Mostrar gráfico\n",
    "\n",
    "    return conteo  # Devolver datos de conteo"
   ]
  },
  {
   "cell_type": "code",
   "execution_count": null,
   "id": "82f8922d",
   "metadata": {
    "id": "82f8922d"
   },
   "outputs": [],
   "source": [
    "# Usar la función con el archivo real\n",
    "ruta_titanic = '/content/drive/MyDrive/titanic.csv'  # Ruta al archivo titanic.csv\n",
    "conteo_supervivencia = analizar_titanic(ruta_titanic)  # Llamar función y guardar resultado"
   ]
  },
  {
   "cell_type": "markdown",
   "id": "62835d1c",
   "metadata": {
    "id": "62835d1c"
   },
   "source": [
    "###Detección y eliminación de duplicados"
   ]
  },
  {
   "cell_type": "code",
   "execution_count": null,
   "id": "3a1f7b83",
   "metadata": {
    "id": "3a1f7b83"
   },
   "outputs": [],
   "source": [
    "# Ver cuántas filas duplicadas hay en el DataFrame\n",
    "duplicados = df_limpio.duplicated().sum()  # Cuenta las filas duplicadas (idénticas)\n",
    "print(f'Total de filas duplicadas: {duplicados}')  # Muestra el total encontrado\n",
    "\n",
    "# Eliminar filas duplicadas\n",
    "df_sin_duplicados = df_limpio.drop_duplicates()  # Crea nuevo DataFrame sin duplicados\n",
    "df_sin_duplicados.reset_index(drop=True, inplace=True)  # Reinicia el índice para mantener orden\n",
    "df_sin_duplicados.head()  # Muestra las primeras filas del resultado"
   ]
  },
  {
   "cell_type": "code",
   "execution_count": null,
   "id": "c5c71eb4",
   "metadata": {
    "id": "c5c71eb4"
   },
   "outputs": [],
   "source": [
    "# FORMA 2\n",
    "duplicados = df.duplicated().sum()\n",
    "if duplicados > 0:\n",
    "  print(f\"Se encontraron {duplicados} filas duplicadas. Procediendo a eliminarlas\")\n",
    "  df.drop_duplicates(inplace=True)\n",
    "else:\n",
    "  print(\"No se encontraron filas duplicadas. No es necesario eliminarlas\")\n",
    "\n",
    "print(\"Dimensiones tras el paso de duplicados:\", df.shape)"
   ]
  },
  {
   "cell_type": "markdown",
   "id": "9d871aa0",
   "metadata": {
    "id": "9d871aa0"
   },
   "source": [
    "###Exportar DataFrame limpio a un archivo CSV"
   ]
  },
  {
   "cell_type": "code",
   "execution_count": null,
   "id": "ca8a2091",
   "metadata": {
    "id": "ca8a2091"
   },
   "outputs": [],
   "source": [
    "# Intentar guardar el DataFrame como archivo CSV\n",
    "try:\n",
    "    # Guardamos el DataFrame limpio como CSV, sin índice y en codificación utf-8\n",
    "    df_sin_duplicados.to_csv('/content/drive/MyDrive/datos_limpios.csv', index=False, encoding='utf-8')\n",
    "    # Si todo funciona bien, muestra mensaje de éxito\n",
    "    print(\"DataFrame limpio exportado a: datos_limpios.csv\")\n",
    "except Exception as e:\n",
    "    # Si ocurre un error, muestra el error\n",
    "    print(f\"Error al exportar DataFrame limpio: {e}\")"
   ]
  },
  {
   "cell_type": "markdown",
   "id": "c8b64d23",
   "metadata": {
    "id": "c8b64d23"
   },
   "source": [
    "### Consultando la cantidad de memoria ocupada por estructura"
   ]
  },
  {
   "cell_type": "code",
   "execution_count": null,
   "id": "1e82a0e6",
   "metadata": {
    "id": "1e82a0e6"
   },
   "outputs": [],
   "source": [
    "memoria_lista = sys.getsizeof(lista)\n",
    "memoria_arreglo = arreglo.nbytes\n",
    "\n",
    "print(f\"Memoria ocupada por la lista: {memoria_lista} Bytes\")\n",
    "print(f\"Memoria ocupada por el array: {memoria_arreglo} Bytes\")"
   ]
  },
  {
   "cell_type": "markdown",
   "id": "c5da9352",
   "metadata": {
    "id": "c5da9352"
   },
   "source": [
    "###Otros metodos de numpy"
   ]
  },
  {
   "cell_type": "code",
   "execution_count": null,
   "id": "fe04ce1e",
   "metadata": {
    "id": "fe04ce1e"
   },
   "outputs": [],
   "source": [
    "print(\"Shape:\", arreglo.shape) # Dimensiones\n",
    "print(\"Dimensiones:\", arreglo.ndim) # Numero de ejes\n",
    "print(\"Tamaño:\", arreglo.size) # Total de elementos\n",
    "print(\"Tipo de dato:\", arreglo.dtype) # Tipo almacenado\n",
    "print(\"Bytes/elem:\", arreglo.itemsize) # Tamaño en bytes de cada elemento"
   ]
  },
  {
   "cell_type": "markdown",
   "id": "d0a6e005",
   "metadata": {
    "id": "d0a6e005"
   },
   "source": [
    "###Identificando las filas en especifico con datos nulos"
   ]
  },
  {
   "cell_type": "code",
   "execution_count": null,
   "id": "9ae68137",
   "metadata": {
    "id": "9ae68137"
   },
   "outputs": [],
   "source": [
    "filas_nulas = datos[datos.isnull().any(axis=1)] # DATOS ES NUESTRO DATAFRAME\n",
    "filas_nulas"
   ]
  },
  {
   "cell_type": "markdown",
   "id": "65a30692",
   "metadata": {
    "id": "65a30692"
   },
   "source": [
    "###Funcion para verificar si un genero de videojuego esta presente en la lista"
   ]
  },
  {
   "cell_type": "code",
   "execution_count": null,
   "id": "d5bbf5d3",
   "metadata": {
    "id": "d5bbf5d3"
   },
   "outputs": [],
   "source": [
    "def filtro_rpg(genres):\n",
    "  return \"RPG\" in genres\n",
    "\n",
    "#APLICAR UN FILTRO PARA CONSULTAR Y LLAMAR LA FUNCION filtro_rpg\n",
    "datosRPG = datos[datos[\"Genres\"].apply(filtro_rpg)]\n",
    "\n",
    "# MOSTRAR EL DATASET FILTRADO, INCLUYENDO SOLO LAS COLUMNAS (TITULOS, RATING)\n",
    "nombresRPG = datosRPG[[\"Title\", \"Rating\"]]\n",
    "nombresRPG.head(20) # QUE SE MUESTREN LOS PRIMEROS 20 VIDEOJUEGOS RPG"
   ]
  },
  {
   "cell_type": "markdown",
   "id": "273acf79",
   "metadata": {
    "id": "273acf79"
   },
   "source": [
    "###Graficar los primeros 10 videjuegos RPG y su rating de popularidad"
   ]
  },
  {
   "cell_type": "code",
   "execution_count": null,
   "id": "89a28068",
   "metadata": {
    "id": "89a28068"
   },
   "outputs": [],
   "source": [
    "graficosRPG = nombresRPG.head(10)\n",
    "\n",
    "graficosRPG.drop([\"Title\"], axis=1)[\"Rating\"].plot(kind=\"bar\")"
   ]
  },
  {
   "cell_type": "markdown",
   "id": "bac1472f",
   "metadata": {
    "id": "bac1472f"
   },
   "source": [
    "###AGREGAR EL TITULO CORRESPONDIENTE"
   ]
  },
  {
   "cell_type": "code",
   "execution_count": null,
   "id": "e7949b0a",
   "metadata": {
    "id": "e7949b0a"
   },
   "outputs": [],
   "source": [
    "graficosRPG = nombresRPG.head(10)\n",
    "\n",
    "graficosRPG.set_index(\"Title\", inplace=True)\n",
    "graficosRPG[\"Rating\"].plot(kind=\"bar\")"
   ]
  },
  {
   "cell_type": "markdown",
   "id": "454e0dc2",
   "metadata": {
    "id": "454e0dc2"
   },
   "source": [
    "###Agregando las etiquetas de datos al grafico"
   ]
  },
  {
   "cell_type": "code",
   "execution_count": null,
   "id": "55132695",
   "metadata": {
    "id": "55132695"
   },
   "outputs": [],
   "source": [
    "graficosRPG = nombresRPG.head(10)\n",
    "\n",
    "graficosRPG.set_index(\"Title\", inplace=True)\n",
    "graph = graficosRPG[\"Rating\"].plot(kind=\"bar\")\n",
    "\n",
    "# AGREGAR LAS ETIQUETA NUMERICAS DE RATING EN LAS BARRAS\n",
    "for i, rating in enumerate(graficosRPG[\"Rating\"]):\n",
    "  graph.annotate(str(rating), xy=(i, rating), ha=\"center\", va=\"bottom\")         # AGREGA UN srt O ESCRIBE EN EL plot\n",
    "\n",
    "plt.show() # NO ES NECESARIO APLICARLA"
   ]
  },
  {
   "cell_type": "markdown",
   "id": "b894d005",
   "metadata": {
    "id": "b894d005"
   },
   "source": [
    "###Crear Grafico circular"
   ]
  },
  {
   "cell_type": "code",
   "execution_count": null,
   "id": "6544b3a0",
   "metadata": {
    "id": "6544b3a0"
   },
   "outputs": [],
   "source": [
    "# Crear una lista con los géneros que vamos a comparar\n",
    "generos = [\"RPG\", \"Indie\"]\n",
    "\n",
    "# Crear una lista con los promedios correspondientes (supongamos que estas variables ya fueron calculadas)\n",
    "promedios = [promRPG, promInd]\n",
    "\n",
    "# Crear un DataFrame para organizar los datos (esto no es obligatorio, pero puede ser útil si trabajas con pandas)\n",
    "dataset_promedios = pd.DataFrame({\n",
    "    \"Genero\": generos,      # Columna con nombres de géneros\n",
    "    \"Promedio\": promedios   # Columna con los promedios\n",
    "})\n",
    "\n",
    "# Extraer los valores que vamos a graficar\n",
    "valores = dataset_promedios[\"Promedio\"]    # Los datos numéricos a mostrar (porciones del pastel)\n",
    "etiquetas = dataset_promedios[\"Genero\"]    # Las etiquetas que aparecen en cada porción (RPG e Indie)\n",
    "\n",
    "# Crear el gráfico de torta\n",
    "plt.pie(valores,                             # Datos numéricos\n",
    "        labels=etiquetas,                    # Etiquetas de cada porción\n",
    "        autopct=\"%1.1f%%\",                   # Mostrar el porcentaje con un decimal\n",
    "        startangle=90)                       # Rotar el inicio del gráfico para que se vea más estético\n",
    "\n",
    "# Título del gráfico\n",
    "plt.title(\"Comparación de Rating entre RPG e Indie\")\n",
    "\n",
    "# Mostrar el gráfico\n",
    "plt.show()\n"
   ]
  }
 ],
 "metadata": {
  "colab": {
   "provenance": []
  },
  "kernelspec": {
   "display_name": "Python 3",
   "language": "python",
   "name": "python3"
  },
  "language_info": {
   "codemirror_mode": {
    "name": "ipython",
    "version": 3
   },
   "file_extension": ".py",
   "mimetype": "text/x-python",
   "name": "python",
   "nbconvert_exporter": "python",
   "pygments_lexer": "ipython3",
   "version": "3.13.3"
  }
 },
 "nbformat": 4,
 "nbformat_minor": 5
}
